{
  "nbformat": 4,
  "nbformat_minor": 0,
  "metadata": {
    "colab": {
      "name": "Untitled0.ipynb",
      "provenance": [],
      "authorship_tag": "ABX9TyNuQXiGSkJUgUhMv3ENVD/K",
      "include_colab_link": true
    },
    "kernelspec": {
      "name": "python3",
      "display_name": "Python 3"
    }
  },
  "cells": [
    {
      "cell_type": "markdown",
      "metadata": {
        "id": "view-in-github",
        "colab_type": "text"
      },
      "source": [
        "<a href=\"https://colab.research.google.com/github/Flex-Xuan/lhy_DL_Hw/blob/master/flex-hw1.ipynb\" target=\"_parent\"><img src=\"https://colab.research.google.com/assets/colab-badge.svg\" alt=\"Open In Colab\"/></a>"
      ]
    },
    {
      "cell_type": "code",
      "metadata": {
        "colab": {
          "base_uri": "https://localhost:8080/",
          "height": 1000
        },
        "id": "TbJn3MiseKIi",
        "outputId": "1d4f95ac-6659-4910-a6f0-e3ef59c2d431"
      },
      "source": [
        "import sys\r\n",
        "import numpy as np\r\n",
        "import pandas as pd\r\n",
        "import csv\r\n",
        "\r\n",
        "### Read in training set ###\r\n",
        "raw_data = np.genfromtxt(\"https://github.com/Flex-Xuan/lhy_DL_Hw/blob/master/train.csv\",delimiter=',')\r\n",
        "data = raw_data[1:,3:]\r\n",
        "where_are_NaNs = np.isnan(data)\r\n",
        "data[where_are_NaNs] = 0\r\n",
        "\r\n",
        "month_to_data = {}  ## Dictionary (key:month , value:data)                                  \r\n",
        "\r\n",
        "for month in range(12):\r\n",
        "    sample = np.empty(shape = (18 , 480))\r\n",
        "    for day in range(20):\r\n",
        "        for hour in range(24): \r\n",
        "            sample[:,day * 24 + hour] = data[18 * (month * 20 + day): 18 * (month * 20 + day + 1),hour]\r\n",
        "    month_to_data[month] = sample  \r\n",
        "\r\n",
        "\r\n",
        "### Preprocess ###\r\n",
        "x = np.empty(shape = (12 * 471 , 18 * 9),dtype = float)\r\n",
        "y = np.empty(shape = (12 * 471 , 1),dtype = float)\r\n",
        "\r\n",
        "for month in range(12): \r\n",
        "    for day in range(20): \r\n",
        "        for hour in range(24):   \r\n",
        "            if day == 19 and hour > 14:\r\n",
        "                continue  \r\n",
        "            x[month * 471 + day * 24 + hour,:] = month_to_data[month][:,day * 24 + hour : day * 24 + hour + 9].reshape(1,-1) \r\n",
        "            y[month * 471 + day * 24 + hour,0] = month_to_data[month][9 ,day * 24 + hour + 9]\r\n",
        "\r\n",
        "### Normalization ###\r\n",
        "mean = np.mean(x, axis = 0) \r\n",
        "std = np.std(x, axis = 0)\r\n",
        "for i in range(x.shape[0]):\r\n",
        "    for j in range(x.shape[1]):\r\n",
        "        if not std[j] == 0 :\r\n",
        "            x[i][j] = (x[i][j]- mean[j]) / std[j]\r\n",
        "\r\n",
        "\r\n",
        "\r\n",
        "### Training ###\r\n",
        "dim = x.shape[1] + 1 \r\n",
        "w = np.zeros(shape = (dim, 1 ))\r\n",
        "x = np.concatenate((np.ones((x.shape[0], 1 )), x) , axis = 1).astype(float)\r\n",
        "learning_rate = np.array([[200]] * dim)\r\n",
        "adagrad_sum = np.zeros(shape = (dim, 1 ))\r\n",
        " \r\n",
        "for T in range(10000):\r\n",
        "    if(T % 500 == 0 ):\r\n",
        "        print(\"T=\",T)\r\n",
        "        print(\"Loss:\",np.power(np.sum(np.power(x.dot(w) - y, 2 ))/ x.shape[0],0.5))\r\n",
        "    gradient = (-2) * np.transpose(x).dot(y-x.dot(w))\r\n",
        "    adagrad_sum += gradient ** 2\r\n",
        "    w = w - learning_rate * gradient / (np.sqrt(adagrad_sum) + 0.0005)\r\n",
        "\r\n",
        "np.save('weight.npy',w)     ## save weight\r\n",
        "\r\n"
      ],
      "execution_count": 11,
      "outputs": [
        {
          "output_type": "error",
          "ename": "ValueError",
          "evalue": "ignored",
          "traceback": [
            "\u001b[0;31m---------------------------------------------------------------------------\u001b[0m",
            "\u001b[0;31mValueError\u001b[0m                                Traceback (most recent call last)",
            "\u001b[0;32m<ipython-input-11-e58defbb8350>\u001b[0m in \u001b[0;36m<module>\u001b[0;34m()\u001b[0m\n\u001b[1;32m      5\u001b[0m \u001b[0;34m\u001b[0m\u001b[0m\n\u001b[1;32m      6\u001b[0m \u001b[0;31m### Read in training set ###\u001b[0m\u001b[0;34m\u001b[0m\u001b[0;34m\u001b[0m\u001b[0;34m\u001b[0m\u001b[0m\n\u001b[0;32m----> 7\u001b[0;31m \u001b[0mraw_data\u001b[0m \u001b[0;34m=\u001b[0m \u001b[0mnp\u001b[0m\u001b[0;34m.\u001b[0m\u001b[0mgenfromtxt\u001b[0m\u001b[0;34m(\u001b[0m\u001b[0;34m\"https://github.com/Flex-Xuan/lhy_DL_Hw/blob/master/train.csv\"\u001b[0m\u001b[0;34m,\u001b[0m\u001b[0mdelimiter\u001b[0m\u001b[0;34m=\u001b[0m\u001b[0;34m','\u001b[0m\u001b[0;34m)\u001b[0m\u001b[0;34m\u001b[0m\u001b[0;34m\u001b[0m\u001b[0m\n\u001b[0m\u001b[1;32m      8\u001b[0m \u001b[0mdata\u001b[0m \u001b[0;34m=\u001b[0m \u001b[0mraw_data\u001b[0m\u001b[0;34m[\u001b[0m\u001b[0;36m1\u001b[0m\u001b[0;34m:\u001b[0m\u001b[0;34m,\u001b[0m\u001b[0;36m3\u001b[0m\u001b[0;34m:\u001b[0m\u001b[0;34m]\u001b[0m\u001b[0;34m\u001b[0m\u001b[0;34m\u001b[0m\u001b[0m\n\u001b[1;32m      9\u001b[0m \u001b[0mwhere_are_NaNs\u001b[0m \u001b[0;34m=\u001b[0m \u001b[0mnp\u001b[0m\u001b[0;34m.\u001b[0m\u001b[0misnan\u001b[0m\u001b[0;34m(\u001b[0m\u001b[0mdata\u001b[0m\u001b[0;34m)\u001b[0m\u001b[0;34m\u001b[0m\u001b[0;34m\u001b[0m\u001b[0m\n",
            "\u001b[0;32m/usr/local/lib/python3.6/dist-packages/numpy/lib/npyio.py\u001b[0m in \u001b[0;36mgenfromtxt\u001b[0;34m(fname, dtype, comments, delimiter, skip_header, skip_footer, converters, missing_values, filling_values, usecols, names, excludelist, deletechars, replace_space, autostrip, case_sensitive, defaultfmt, unpack, usemask, loose, invalid_raise, max_rows, encoding)\u001b[0m\n\u001b[1;32m   2078\u001b[0m             \u001b[0;31m# Raise an exception ?\u001b[0m\u001b[0;34m\u001b[0m\u001b[0;34m\u001b[0m\u001b[0;34m\u001b[0m\u001b[0m\n\u001b[1;32m   2079\u001b[0m             \u001b[0;32mif\u001b[0m \u001b[0minvalid_raise\u001b[0m\u001b[0;34m:\u001b[0m\u001b[0;34m\u001b[0m\u001b[0;34m\u001b[0m\u001b[0m\n\u001b[0;32m-> 2080\u001b[0;31m                 \u001b[0;32mraise\u001b[0m \u001b[0mValueError\u001b[0m\u001b[0;34m(\u001b[0m\u001b[0merrmsg\u001b[0m\u001b[0;34m)\u001b[0m\u001b[0;34m\u001b[0m\u001b[0;34m\u001b[0m\u001b[0m\n\u001b[0m\u001b[1;32m   2081\u001b[0m             \u001b[0;31m# Issue a warning ?\u001b[0m\u001b[0;34m\u001b[0m\u001b[0;34m\u001b[0m\u001b[0;34m\u001b[0m\u001b[0m\n\u001b[1;32m   2082\u001b[0m             \u001b[0;32melse\u001b[0m\u001b[0;34m:\u001b[0m\u001b[0;34m\u001b[0m\u001b[0;34m\u001b[0m\u001b[0m\n",
            "\u001b[0;31mValueError\u001b[0m: Some errors were detected !\n    Line #65 (got 2 columns instead of 1)\n    Line #84 (got 156 columns instead of 1)\n    Line #85 (got 2 columns instead of 1)\n    Line #100 (got 3 columns instead of 1)\n    Line #148 (got 3 columns instead of 1)\n    Line #160 (got 6 columns instead of 1)\n    Line #161 (got 3 columns instead of 1)\n    Line #185 (got 4 columns instead of 1)\n    Line #189 (got 2 columns instead of 1)\n    Line #191 (got 2 columns instead of 1)\n    Line #192 (got 2 columns instead of 1)\n    Line #193 (got 2 columns instead of 1)\n    Line #194 (got 2 columns instead of 1)\n    Line #195 (got 2 columns instead of 1)\n    Line #196 (got 2 columns instead of 1)\n    Line #199 (got 2 columns instead of 1)\n    Line #203 (got 2 columns instead of 1)\n    Line #204 (got 2 columns instead of 1)\n    Line #210 (got 2 columns instead of 1)\n    Line #213 (got 2 columns instead of 1)\n    Line #221 (got 4 columns instead of 1)\n    Line #227 (got 2 columns instead of 1)\n    Line #232 (got 2 columns instead of 1)\n    Line #233 (got 2 columns instead of 1)\n    Line #234 (got 2 columns instead of 1)\n    Line #235 (got 2 columns instead of 1)\n    Line #236 (got 2 columns instead of 1)\n    Line #241 (got 2 columns instead of 1)\n    Line #242 (got 2 columns instead of 1)\n    Line #243 (got 2 columns instead of 1)\n    Line #244 (got 2 columns instead of 1)\n    Line #251 (got 2 columns instead of 1)\n    Line #259 (got 4 columns instead of 1)\n    Line #264 (got 2 columns instead of 1)\n    Line #268 (got 2 columns instead of 1)\n    Line #272 (got 2 columns instead of 1)\n    Line #273 (got 2 columns instead of 1)\n    Line #295 (got 2 columns instead of 1)\n    Line #433 (got 6 columns instead of 1)\n    Line #434 (got 3 columns instead of 1)\n    Line #439 (got 6 columns instead of 1)\n    Line #440 (got 3 columns instead of 1)\n    Line #527 (got 6 columns instead of 1)\n    Line #538 (got 6 columns instead of 1)\n    Line #551 (got 6 columns instead of 1)\n    Line #567 (got 3 columns instead of 1)\n    Line #575 (got 3 columns instead of 1)\n    Line #583 (got 3 columns instead of 1)\n    Line #591 (got 3 columns instead of 1)\n    Line #599 (got 3 columns instead of 1)\n    Line #607 (got 3 columns instead of 1)\n    Line #710 (got 7 columns instead of 1)\n    Line #771 (got 2 columns instead of 1)\n    Line #774 (got 2 columns instead of 1)\n    Line #130469 (got 2 columns instead of 1)\n    Line #130470 (got 3 columns instead of 1)\n    Line #130471 (got 3 columns instead of 1)\n    Line #130472 (got 3 columns instead of 1)\n    Line #130473 (got 3 columns instead of 1)\n    Line #130474 (got 3 columns instead of 1)\n    Line #130481 (got 3 columns instead of 1)\n    Line #130482 (got 3 columns instead of 1)\n    Line #130483 (got 3 columns instead of 1)\n    Line #130484 (got 3 columns instead of 1)\n    Line #130485 (got 3 columns instead of 1)\n    Line #130486 (got 3 columns instead of 1)"
          ]
        }
      ]
    }
  ]
}